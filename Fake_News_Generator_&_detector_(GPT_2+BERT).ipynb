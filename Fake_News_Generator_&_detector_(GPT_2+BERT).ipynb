{
  "cells": [
    {
      "cell_type": "code",
      "execution_count": null,
      "metadata": {
        "id": "0nsKq7_TqY96"
      },
      "outputs": [],
      "source": [
        "!pip install -q transformers torch gradio"
      ]
    },
    {
      "cell_type": "code",
      "execution_count": null,
      "metadata": {
        "colab": {
          "base_uri": "https://localhost:8080/",
          "height": 680
        },
        "id": "li0ncdEjRW1n",
        "outputId": "9570c0ea-864d-48b3-a335-d0d21d1b4278"
      },
      "outputs": [
        {
          "output_type": "stream",
          "name": "stderr",
          "text": [
            "Some weights of BertForSequenceClassification were not initialized from the model checkpoint at bert-base-uncased and are newly initialized: ['classifier.bias', 'classifier.weight']\n",
            "You should probably TRAIN this model on a down-stream task to be able to use it for predictions and inference.\n"
          ]
        },
        {
          "output_type": "stream",
          "name": "stdout",
          "text": [
            "It looks like you are running Gradio on a hosted Jupyter notebook, which requires `share=True`. Automatically setting `share=True` (you can turn this off by setting `share=False` in `launch()` explicitly).\n",
            "\n",
            "Colab notebook detected. To show errors in colab notebook, set debug=True in launch()\n",
            "* Running on public URL: https://0136a5631cce199a36.gradio.live\n",
            "\n",
            "This share link expires in 1 week. For free permanent hosting and GPU upgrades, run `gradio deploy` from the terminal in the working directory to deploy to Hugging Face Spaces (https://huggingface.co/spaces)\n"
          ]
        },
        {
          "output_type": "display_data",
          "data": {
            "text/plain": [
              "<IPython.core.display.HTML object>"
            ],
            "text/html": [
              "<div><iframe src=\"https://0136a5631cce199a36.gradio.live\" width=\"100%\" height=\"500\" allow=\"autoplay; camera; microphone; clipboard-read; clipboard-write;\" frameborder=\"0\" allowfullscreen></iframe></div>"
            ]
          },
          "metadata": {}
        },
        {
          "output_type": "execute_result",
          "data": {
            "text/plain": []
          },
          "metadata": {},
          "execution_count": 6
        }
      ],
      "source": [
        "# Imports\n",
        "import torch\n",
        "from transformers import GPT2LMHeadModel, GPT2Tokenizer\n",
        "from transformers import AutoTokenizer, AutoModelForSequenceClassification\n",
        "import gradio as gr\n",
        "\n",
        "\n",
        "# ✅ Check device\n",
        "device = torch.device(\"cuda\" if torch.cuda.is_available() else \"cpu\")\n",
        "\n",
        "\n",
        "# ✅ Load Models\n",
        "gpt2_tokenizer = GPT2Tokenizer.from_pretrained(\"gpt2\")\n",
        "gpt2_model = GPT2LMHeadModel.from_pretrained(\"gpt2\").to(device)\n",
        "\n",
        "\n",
        "bert_tokenizer = AutoTokenizer.from_pretrained(\"bert-base-uncased\")\n",
        "bert_model = AutoModelForSequenceClassification.from_pretrained(\n",
        "    \"bert-base-uncased\", num_labels=2\n",
        ").to(device)\n",
        "\n",
        "\n",
        "# ✅ Generate Fake News\n",
        "def generate_fake_news(prompt):\n",
        "    inputs = gpt2_tokenizer.encode(prompt, return_tensors=\"pt\").to(device)\n",
        "    outputs = gpt2_model.generate(\n",
        "        inputs,\n",
        "        max_length=200,\n",
        "        num_return_sequences=1,\n",
        "        no_repeat_ngram_size=2,\n",
        "        do_sample=True,\n",
        "        temperature=0.7,\n",
        "        top_k=50,\n",
        "        top_p=0.95,\n",
        "        early_stopping=True\n",
        "    )\n",
        "    generated_text = gpt2_tokenizer.decode(outputs[0], skip_special_tokens=True)\n",
        "    return generated_text\n",
        "\n",
        "\n",
        "# ✅ Detect Fake or Real News\n",
        "def detect_news(text):\n",
        "    inputs = bert_tokenizer(text, return_tensors=\"pt\", truncation=True, padding=True).to(device)\n",
        "    with torch.no_grad():\n",
        "        outputs = bert_model(**inputs)\n",
        "    logits = outputs.logits\n",
        "    predicted_class = torch.argmax(logits, dim=1).item()\n",
        "    confidence = torch.softmax(logits, dim=1)[0][predicted_class].item()\n",
        "    label = \"🟥 Fake News\" if predicted_class == 0 else \"🟩 Real News\"\n",
        "    return f\"{label} (Confidence: {confidence:.2f})\"\n",
        "\n",
        "\n",
        "# ✅ Gradio UI\n",
        "with gr.Blocks() as demo:\n",
        "    gr.Markdown(\"## 📰 Fake News Generator & Detector (GPT-2 + BERT)\")\n",
        "    with gr.Tab(\"🛠️ Generate Fake News\"):\n",
        "        with gr.Row():\n",
        "            input_text = gr.Textbox(label=\"Enter a News Headline or Prompt\", placeholder=\"e.g. A mysterious object was spotted in the sky...\", lines=2)\n",
        "        generate_btn = gr.Button(\"Generate\")\n",
        "        output_text = gr.Textbox(label=\"Generated News Article\")\n",
        "        generate_btn.click(generate_fake_news, inputs=input_text, outputs=output_text)\n",
        "\n",
        "\n",
        "    with gr.Tab(\"🔍 Detect Fake or Real\"):\n",
        "        with gr.Row():\n",
        "            detect_input = gr.Textbox(label=\"Enter a News Article or Statement\", placeholder=\"Paste a paragraph to detect if it's fake or real...\", lines=5)\n",
        "        detect_btn = gr.Button(\"Detect\")\n",
        "        detect_output = gr.Textbox(label=\"Detection Result\")\n",
        "        detect_btn.click(detect_news, inputs=detect_input, outputs=detect_output)\n",
        "\n",
        "\n",
        "# ✅ Launch\n",
        "demo.launch()\n"
      ]
    }
  ],
  "metadata": {
    "colab": {
      "provenance": []
    },
    "kernelspec": {
      "display_name": "Python 3",
      "name": "python3"
    },
    "language_info": {
      "name": "python"
    }
  },
  "nbformat": 4,
  "nbformat_minor": 0
}